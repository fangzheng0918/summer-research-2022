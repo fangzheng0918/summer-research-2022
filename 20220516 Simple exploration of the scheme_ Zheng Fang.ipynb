{
 "cells": [
  {
   "cell_type": "markdown",
   "id": "1272043e",
   "metadata": {},
   "source": [
    " # Julia Test"
   ]
  },
  {
   "cell_type": "code",
   "execution_count": 1,
   "id": "18435b32",
   "metadata": {},
   "outputs": [
    {
     "data": {
      "text/plain": [
       "3×3 Matrix{Int64}:\n",
       " 4  1  4\n",
       " 1  3  4\n",
       " 2  4  4"
      ]
     },
     "execution_count": 1,
     "metadata": {},
     "output_type": "execute_result"
    }
   ],
   "source": [
    "A = rand(1:4,3,3)"
   ]
  },
  {
   "cell_type": "markdown",
   "id": "c598f5e9",
   "metadata": {},
   "source": [
    "# Part A"
   ]
  },
  {
   "cell_type": "markdown",
   "id": "8bf50b40",
   "metadata": {},
   "source": [
    "m, n = 2, 2\n",
    "A = fill(0, (m, n))"
   ]
  },
  {
   "cell_type": "code",
   "execution_count": 3,
   "id": "e7ca26a0",
   "metadata": {},
   "outputs": [
    {
     "data": {
      "text/plain": [
       "2×2 Matrix{Int64}:\n",
       " 1  3\n",
       " 2  4"
      ]
     },
     "execution_count": 3,
     "metadata": {},
     "output_type": "execute_result"
    }
   ],
   "source": [
    "count = 1 \n",
    "for j in 1:n\n",
    "    for i in 1:m\n",
    "        A[i, j] = count\n",
    "        count += 1\n",
    "    end\n",
    "end\n",
    "A"
   ]
  },
  {
   "cell_type": "code",
   "execution_count": 4,
   "id": "f4624e95",
   "metadata": {},
   "outputs": [
    {
     "data": {
      "text/plain": [
       "4×4 Matrix{Int64}:\n",
       " 0  0  0  0\n",
       " 0  0  0  0\n",
       " 0  0  0  0\n",
       " 0  0  0  0"
      ]
     },
     "execution_count": 4,
     "metadata": {},
     "output_type": "execute_result"
    }
   ],
   "source": [
    "m, n = 2, 2\n",
    "m, n = m *2, n * 2\n",
    "A = fill(0, (m, n))"
   ]
  },
  {
   "cell_type": "code",
   "execution_count": 5,
   "id": "6a7c5f0a",
   "metadata": {},
   "outputs": [
    {
     "data": {
      "text/plain": [
       "4×4 Matrix{Int64}:\n",
       " 1  5   9  13\n",
       " 2  6  10  14\n",
       " 3  7  11  15\n",
       " 4  8  12  16"
      ]
     },
     "execution_count": 5,
     "metadata": {},
     "output_type": "execute_result"
    }
   ],
   "source": [
    "count = 1 \n",
    "for j in 1:m\n",
    "    for i in 1:n\n",
    "        A[i, j] = count\n",
    "        count += 1\n",
    "    end\n",
    "end\n",
    "A"
   ]
  },
  {
   "cell_type": "code",
   "execution_count": 6,
   "id": "3efc20b1",
   "metadata": {},
   "outputs": [
    {
     "data": {
      "text/plain": [
       "8×8 Matrix{Int64}:\n",
       " 1   9  17  25  33  41  49  57\n",
       " 2  10  18  26  34  42  50  58\n",
       " 3  11  19  27  35  43  51  59\n",
       " 4  12  20  28  36  44  52  60\n",
       " 5  13  21  29  37  45  53  61\n",
       " 6  14  22  30  38  46  54  62\n",
       " 7  15  23  31  39  47  55  63\n",
       " 8  16  24  32  40  48  56  64"
      ]
     },
     "execution_count": 6,
     "metadata": {},
     "output_type": "execute_result"
    }
   ],
   "source": [
    "m, n= m *2, n * 2\n",
    "A = fill(0, (m, n))\n",
    "count = 1 \n",
    "for j in 1:m\n",
    "    for i in 1:n\n",
    "        A[i, j] = count\n",
    "        count += 1\n",
    "    end\n",
    "end\n",
    "A"
   ]
  },
  {
   "cell_type": "code",
   "execution_count": 7,
   "id": "5f725aa6",
   "metadata": {},
   "outputs": [
    {
     "data": {
      "text/plain": [
       "16×16 Matrix{Int64}:\n",
       "  1  17  33  49  65  81   97  113  129  145  161  177  193  209  225  241\n",
       "  2  18  34  50  66  82   98  114  130  146  162  178  194  210  226  242\n",
       "  3  19  35  51  67  83   99  115  131  147  163  179  195  211  227  243\n",
       "  4  20  36  52  68  84  100  116  132  148  164  180  196  212  228  244\n",
       "  5  21  37  53  69  85  101  117  133  149  165  181  197  213  229  245\n",
       "  6  22  38  54  70  86  102  118  134  150  166  182  198  214  230  246\n",
       "  7  23  39  55  71  87  103  119  135  151  167  183  199  215  231  247\n",
       "  8  24  40  56  72  88  104  120  136  152  168  184  200  216  232  248\n",
       "  9  25  41  57  73  89  105  121  137  153  169  185  201  217  233  249\n",
       " 10  26  42  58  74  90  106  122  138  154  170  186  202  218  234  250\n",
       " 11  27  43  59  75  91  107  123  139  155  171  187  203  219  235  251\n",
       " 12  28  44  60  76  92  108  124  140  156  172  188  204  220  236  252\n",
       " 13  29  45  61  77  93  109  125  141  157  173  189  205  221  237  253\n",
       " 14  30  46  62  78  94  110  126  142  158  174  190  206  222  238  254\n",
       " 15  31  47  63  79  95  111  127  143  159  175  191  207  223  239  255\n",
       " 16  32  48  64  80  96  112  128  144  160  176  192  208  224  240  256"
      ]
     },
     "execution_count": 7,
     "metadata": {},
     "output_type": "execute_result"
    }
   ],
   "source": [
    "m, n= m *2, n * 2\n",
    "A = fill(0, (m, n))\n",
    "count = 1 \n",
    "for j in 1:m\n",
    "    for i in 1:n\n",
    "        A[i, j] = count\n",
    "        count += 1\n",
    "    end\n",
    "end\n",
    "A"
   ]
  },
  {
   "cell_type": "markdown",
   "id": "3ea74e0a",
   "metadata": {},
   "source": [
    "# Part B"
   ]
  },
  {
   "cell_type": "code",
   "execution_count": 10,
   "id": "7b728c27",
   "metadata": {},
   "outputs": [
    {
     "data": {
      "text/plain": [
       "8×8 Matrix{Int64}:\n",
       " 0  0  0  0  0  1  1  1\n",
       " 0  1  1  1  1  1  1  0\n",
       " 0  0  1  0  0  0  0  0\n",
       " 1  0  1  1  0  0  1  0\n",
       " 0  1  1  0  0  0  1  0\n",
       " 0  0  1  0  0  1  1  0\n",
       " 0  0  1  0  1  1  1  1\n",
       " 0  0  1  1  0  1  0  0"
      ]
     },
     "execution_count": 10,
     "metadata": {},
     "output_type": "execute_result"
    }
   ],
   "source": [
    "A = rand(0:1,8,8)"
   ]
  },
  {
   "cell_type": "code",
   "execution_count": 79,
   "id": "d0adcabd",
   "metadata": {},
   "outputs": [
    {
     "data": {
      "text/plain": [
       "3"
      ]
     },
     "execution_count": 79,
     "metadata": {},
     "output_type": "execute_result"
    }
   ],
   "source": [
    "m,n = 5,7\n",
    "neb = A[m-1,n-1]+A[m-1,n]+A[m-1,n+1]+A[m,n-1]+A[m,n+1]+A[m+1,n-1]+A[m+1,n]+A[m+1,n+1]"
   ]
  },
  {
   "cell_type": "code",
   "execution_count": 75,
   "id": "14dfe240",
   "metadata": {},
   "outputs": [
    {
     "data": {
      "text/plain": [
       "8×8 Matrix{Int64}:\n",
       " 0  0  0  0  0  0  0  0\n",
       " 0  0  0  0  0  0  0  0\n",
       " 0  0  0  0  0  0  0  0\n",
       " 0  0  0  0  0  0  0  0\n",
       " 0  0  0  0  0  0  0  0\n",
       " 0  0  0  0  0  0  0  0\n",
       " 0  0  0  0  0  0  0  0\n",
       " 0  0  0  0  0  0  0  0"
      ]
     },
     "execution_count": 75,
     "metadata": {},
     "output_type": "execute_result"
    }
   ],
   "source": [
    "x,y = 8,8\n",
    "B = fill(0, (x, y))"
   ]
  },
  {
   "cell_type": "code",
   "execution_count": 57,
   "id": "1aafc5a8",
   "metadata": {},
   "outputs": [
    {
     "ename": "LoadError",
     "evalue": "BoundsError: attempt to access 8×8 Matrix{Int64} at index [0, 0]",
     "output_type": "error",
     "traceback": [
      "BoundsError: attempt to access 8×8 Matrix{Int64} at index [0, 0]",
      "",
      "Stacktrace:",
      " [1] getindex(::Matrix{Int64}, ::Int64, ::Int64)",
      "   @ Base .\\array.jl:862",
      " [2] top-level scope",
      "   @ .\\In[57]:4",
      " [3] eval",
      "   @ .\\boot.jl:373 [inlined]",
      " [4] include_string(mapexpr::typeof(REPL.softscope), mod::Module, code::String, filename::String)",
      "   @ Base .\\loading.jl:1196"
     ]
    }
   ],
   "source": [
    "for m in 1:8\n",
    "    for n in 1:8\n",
    "        \n",
    "        neb = A[m-1,n-1]+A[m-1,n]+A[m-1,n+1]+A[m,n-1]+A[m,n+1]+A[m+1,n-1]+A[m+1,n]+A[m+1,n+1]\n",
    "        \n",
    "        if A[m,n] == 1\n",
    "            if neb == 2||3\n",
    "               B[m,n] = 1\n",
    "            elseif ned >= 4\n",
    "               B[m,n] = 0\n",
    "            end\n",
    "            \n",
    "        else\n",
    "            if neb == 3\n",
    "              B[m,n] = 1\n",
    "             end\n",
    "        end\n",
    "        \n",
    "    end\n",
    "end"
   ]
  },
  {
   "cell_type": "markdown",
   "id": "e92e0b33",
   "metadata": {},
   "source": [
    "# Part 3"
   ]
  },
  {
   "cell_type": "code",
   "execution_count": null,
   "id": "f0c6bbe2",
   "metadata": {},
   "outputs": [],
   "source": []
  }
 ],
 "metadata": {
  "kernelspec": {
   "display_name": "Julia 1.7.2",
   "language": "julia",
   "name": "julia-1.7"
  },
  "language_info": {
   "file_extension": ".jl",
   "mimetype": "application/julia",
   "name": "julia",
   "version": "1.7.2"
  }
 },
 "nbformat": 4,
 "nbformat_minor": 5
}
