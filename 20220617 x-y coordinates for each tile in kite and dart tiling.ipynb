{
 "cells": [
  {
   "cell_type": "code",
   "execution_count": 1,
   "id": "c2a49837",
   "metadata": {},
   "outputs": [
    {
     "name": "stderr",
     "output_type": "stream",
     "text": [
      "\u001b[32m\u001b[1m    Updating\u001b[22m\u001b[39m registry at `C:\\Users\\17404\\.julia\\registries\\General.toml`\n",
      "\u001b[32m\u001b[1m   Resolving\u001b[22m\u001b[39m package versions...\n",
      "\u001b[32m\u001b[1m  No Changes\u001b[22m\u001b[39m to `C:\\Users\\17404\\.julia\\environments\\v1.7\\Project.toml`\n",
      "\u001b[32m\u001b[1m  No Changes\u001b[22m\u001b[39m to `C:\\Users\\17404\\.julia\\environments\\v1.7\\Manifest.toml`\n",
      "\u001b[32m\u001b[1m   Resolving\u001b[22m\u001b[39m package versions...\n",
      "\u001b[32m\u001b[1m  No Changes\u001b[22m\u001b[39m to `C:\\Users\\17404\\.julia\\environments\\v1.7\\Project.toml`\n",
      "\u001b[32m\u001b[1m  No Changes\u001b[22m\u001b[39m to `C:\\Users\\17404\\.julia\\environments\\v1.7\\Manifest.toml`\n"
     ]
    }
   ],
   "source": [
    "using Pkg\n",
    "Pkg.add(\"Luxor\")\n",
    "Pkg.add(\"Colors\")\n",
    "using Luxor\n",
    "using Colors"
   ]
  },
  {
   "cell_type": "code",
   "execution_count": 2,
   "id": "97dad304",
   "metadata": {},
   "outputs": [
    {
     "data": {
      "text/plain": [
       "50"
      ]
     },
     "execution_count": 2,
     "metadata": {},
     "output_type": "execute_result"
    }
   ],
   "source": [
    "phi = (1 + sqrt(5)) / 2\n",
    "sidelength = 50"
   ]
  },
  {
   "cell_type": "code",
   "execution_count": 6,
   "id": "c9dcab79",
   "metadata": {},
   "outputs": [
    {
     "data": {
      "image/png": "[encoded data removed]",
      "text/plain": []
     },
     "execution_count": 6,
     "metadata": {},
     "output_type": "execute_result"
    }
   ],
   "source": [
    "function dart(radialdistance, polarangle, orientation) #function for drawing a dart\n",
    "    ```\n",
    "    radialdistance is the distance between rotation center and the origin\n",
    "    polarangle is the turing angle before the turle move forward by r\n",
    "    orientation is the rotation degrees of starting drawing the dart or kite\n",
    "    ```\n",
    "    \n",
    "    #move the turtle to the position of starting place by polar coordinate and rotation\n",
    "    Penup(t)\n",
    "    Turn(t, polarangle)\n",
    "    Forward(t, radialdistance)\n",
    "    Turn(t, -polarangle)\n",
    "    Turn(t, orientation)\n",
    "    Pendown(t)\n",
    "    \n",
    "    #start to draw a dart \n",
    "    Pencolor(t, \"Black\")\n",
    "    Forward(t, sidelength)\n",
    "    Turn(t, -36)\n",
    "    Forward(t, sidelength)\n",
    "    Turn(t, 144)\n",
    "    Forward(t, sidelength * phi)\n",
    "    Turn(t, 108)\n",
    "    Forward(t, sidelength * phi)\n",
    "    Turn(t, 144)\n",
    "    \n",
    "    #move the turtle back to the origin\n",
    "    Penup(t)\n",
    "    Turn(t, -orientation)\n",
    "    Turn(t, polarangle)\n",
    "    Forward(t, -radialdistance)\n",
    "    Turn(t, -polarangle)\n",
    "    Pendown(t)\n",
    "end\n",
    "\n",
    "@draw begin\n",
    "    t = Turtle()\n",
    "    Penwidth(t,5)\n",
    "    \n",
    "    #check the starting point\n",
    "    Pencolor(t, \"Red\")\n",
    "    Forward(t, 50)\n",
    "    Forward(t, -50)\n",
    "    \n",
    "    #draw a dart\n",
    "    dart(50,36,-36)\n",
    "    \n",
    "    #check the ending point\n",
    "    Penwidth(t,3)\n",
    "    Pencolor(t, \"Blue\")\n",
    "    Forward(t, 50)\n",
    "    Forward(t, -50)\n",
    "end"
   ]
  },
  {
   "cell_type": "code",
   "execution_count": 8,
   "id": "e3ef89c5",
   "metadata": {},
   "outputs": [
    {
     "data": {
      "image/png": "[encoded data removed]",
      "text/plain": []
     },
     "execution_count": 8,
     "metadata": {},
     "output_type": "execute_result"
    }
   ],
   "source": [
    "function kite(radialdistance, polarangle, orientation) #function for drawing a kite\n",
    "    ```\n",
    "    radialdistance is the distance between rotation center and the origin\n",
    "    polarangle is the turing angle before the turle move forward by r\n",
    "    orientation is the rotation degrees of starting drawing the dart or kite\n",
    "    ```\n",
    "    \n",
    "    #move the turtle to the position of starting place by polar coordinate and rotation\n",
    "    Penup(t)\n",
    "    Turn(t, polarangle)\n",
    "    Forward(t, radialdistance)\n",
    "    Turn(t, -polarangle)\n",
    "    Turn(t, orientation)\n",
    "    Pendown(t)\n",
    "    \n",
    "    #start to draw a kite\n",
    "    Pencolor(t, \"Black\")\n",
    "    Turn(t, 108)\n",
    "    Forward(t, sidelength)\n",
    "    Turn(t, 108)\n",
    "    Forward(t, sidelength * phi)\n",
    "    Turn(t, 108)\n",
    "    Forward(t, sidelength * phi)\n",
    "    Turn(t, 108)\n",
    "    Forward(t, sidelength)\n",
    "    Turn(t, -72)\n",
    "    \n",
    "    #move the turtle back to the origin\n",
    "    Penup(t)\n",
    "    Turn(t, -orientation)\n",
    "    Turn(t, polarangle)\n",
    "    Forward(t, -radialdistance)\n",
    "    Turn(t, -polarangle)\n",
    "    Pendown(t)\n",
    "end\n",
    "\n",
    "@draw begin\n",
    "    t = Turtle()\n",
    "    Penwidth(t,5)\n",
    "    \n",
    "    #check the starting point\n",
    "    Pencolor(t, \"Red\")\n",
    "    Forward(t, 50)\n",
    "    Forward(t, -50)\n",
    "    \n",
    "    #draw a kite\n",
    "    kite(50,72,36)\n",
    "    \n",
    "    #check the ending point\n",
    "    Penwidth(t,3)\n",
    "    Pencolor(t, \"Blue\")\n",
    "    Forward(t, 50)\n",
    "    Forward(t, -50)\n",
    "end"
   ]
  },
  {
   "cell_type": "code",
   "execution_count": 9,
   "id": "a2f86303",
   "metadata": {},
   "outputs": [
    {
     "data": {
      "text/plain": [
       "draw (generic function with 1 method)"
      ]
     },
     "execution_count": 9,
     "metadata": {},
     "output_type": "execute_result"
    }
   ],
   "source": [
    "function draw(graph) # function for drawing dart or kite by stored information\n",
    "    for i in 1:length(graph)\n",
    "        if graph[i][1] == \"K\"\n",
    "            kite(graph[i][2],graph[i][3],graph[i][4])\n",
    "        else\n",
    "            dart(graph[i][2],graph[i][3],graph[i][4])\n",
    "        end\n",
    "    end\n",
    "end"
   ]
  },
  {
   "cell_type": "code",
   "execution_count": 10,
   "id": "96a3edde",
   "metadata": {},
   "outputs": [
    {
     "data": {
      "text/plain": [
       "substitution (generic function with 1 method)"
      ]
     },
     "execution_count": 10,
     "metadata": {},
     "output_type": "execute_result"
    }
   ],
   "source": [
    "function substitution(graph)\n",
    "    \n",
    "    number_tiles = length(graph)#Remember the number of tiles at the beginning\n",
    "    \n",
    "    for i in 1:length(graph)#Do substitution for each tile\n",
    "        \n",
    "        if graph[i][1] == \"K\"\n",
    "            y = graph[i][2] * sin(-(graph[i][3] * pi / 180)) + sidelength * sin((180 - graph[i][4]) * pi / 180)\n",
    "            x = graph[i][2] * cos(-(graph[i][3] * pi / 180)) + sidelength * cos((180 - graph[i][4]) * pi / 180)\n",
    "            new_radialdistance = sqrt(y^2+x^2)#find the new distance by doing a vector addition\n",
    "            \n",
    "            #Find the new angle based on the x-y relation\n",
    "                if x > 0\n",
    "                    new_polarangle = atan(y/x) * 180 /pi\n",
    "                elseif x < 0 && y >= 0\n",
    "                    new_polarangle = atan(y/x) * 180 /pi + 180\n",
    "                elseif x < 0 && y < 0\n",
    "                    new_polarangle = atan(y/x) * 180 /pi - 180\n",
    "                elseif x == 0 && y > 0\n",
    "                    new_polarangle = 90\n",
    "                elseif x == 0 && y < 0\n",
    "                    new_polarangle = -90\n",
    "                elseif x == 0 && y == 0\n",
    "                    new_polarangle = 0\n",
    "                end\n",
    "            \n",
    "            #darw new tiles\n",
    "            push!(graph, [\"K\",new_radialdistance,-new_polarangle,graph[i][4] + 108])\n",
    "            push!(graph, [\"K\",new_radialdistance,-new_polarangle,graph[i][4] - 108])\n",
    "            push!(graph, [\"D\",new_radialdistance,-new_polarangle,graph[i][4] + 144])\n",
    "        else\n",
    "            y = graph[i][2] * sin(-(graph[i][3] * pi / 180)) + sidelength * phi * sin(-(graph[i][4] * pi / 180))\n",
    "            x = graph[i][2] * cos(-(graph[i][3] * pi / 180)) + sidelength * phi * cos(-(graph[i][4] * pi / 180))\n",
    "            new_radialdistance = sqrt(y^2+x^2)\n",
    "                if x > 0\n",
    "                    new_polarangle = atan(y/x) * 180 /pi\n",
    "                elseif x < 0 && y >= 0\n",
    "                    new_polarangle = atan(y/x) * 180 /pi + 180\n",
    "                elseif x < 0 && y < 0\n",
    "                    new_polarangle = atan(y/x) * 180 /pi - 180\n",
    "                elseif x == 0 && y > 0\n",
    "                    new_polarangle = 90\n",
    "                elseif x == 0 && y < 0\n",
    "                    new_polarangle = -90\n",
    "                elseif x == 0 && y == 0\n",
    "                    new_polarangle = 0\n",
    "                end\n",
    "            \n",
    "            push!(graph, [\"K\",new_radialdistance,-new_polarangle,graph[i][4] - 108])\n",
    "            push!(graph, [\"D\",new_radialdistance,-new_polarangle,graph[i][4] + 144])\n",
    "        end\n",
    "    end\n",
    "    \n",
    "    for i in 1:number_tiles\n",
    "        popfirst!(graph)\n",
    "    end\n",
    "    \n",
    "end"
   ]
  },
  {
   "cell_type": "code",
   "execution_count": 41,
   "id": "43f999ee",
   "metadata": {},
   "outputs": [
    {
     "data": {
      "text/plain": [
       "vertices (generic function with 1 method)"
      ]
     },
     "execution_count": 41,
     "metadata": {},
     "output_type": "execute_result"
    }
   ],
   "source": [
    "function vertices(graph)\n",
    "    \n",
    "    for i in 1:length(graph)\n",
    "        \n",
    "        if graph[i][1] == \"K\"\n",
    "            \n",
    "            r = sqrt((phi * sidelength)^2 + sidelength^2 - 2 * phi * sidelength^2 * cos(72 * pi / 180))\n",
    "            \n",
    "            vertix1 = [graph[i][2] * cos(-(graph[i][3] * pi / 180)),\n",
    "                       graph[i][2] * sin(-(graph[i][3] * pi / 180))]\n",
    "            vertix2 = [graph[i][2] * cos(-(graph[i][3] * pi / 180)) + sidelength * cos((180 - graph[i][4] + 72) * pi / 180),\n",
    "                       graph[i][2] * sin(-(graph[i][3] * pi / 180)) + sidelength * sin((180 - graph[i][4] + 72) * pi / 180)]\n",
    "            vertix3 = [graph[i][2] * cos(-(graph[i][3] * pi / 180)) + r * cos((180 - graph[i][4]) * pi / 180),\n",
    "                       graph[i][2] * sin(-(graph[i][3] * pi / 180)) + r * sin((180 - graph[i][4]) * pi / 180)]\n",
    "            vertix4 = [graph[i][2] * cos(-(graph[i][3] * pi / 180)) + sidelength * cos((180 - graph[i][4] - 72) * pi / 180),\n",
    "                       graph[i][2] * sin(-(graph[i][3] * pi / 180)) + sidelength * sin((180 - graph[i][4] - 72) * pi / 180)]\n",
    "            println(sin((180 - graph[i][4]) * pi / 180))\n",
    "        else\n",
    "            r = sqrt(2 * (sidelength)^2 - 2 * sidelength^2 * cos(144 * pi / 180))\n",
    "            \n",
    "            vertix1 = [graph[i][2] * cos(-(graph[i][3] * pi / 180)),\n",
    "                       graph[i][2] * sin(-(graph[i][3] * pi / 180))]\n",
    "            vertix2 = [graph[i][2] * cos(-(graph[i][3] * pi / 180)) + sidelength * cos((graph[i][4]) * pi / 180),\n",
    "                       graph[i][2] * sin(-(graph[i][3] * pi / 180)) + sidelength * sin((graph[i][4]) * pi / 180)]\n",
    "            vertix3 = [graph[i][2] * cos(-(graph[i][3] * pi / 180)) + r * cos((graph[i][4] - 18) * pi / 180),\n",
    "                       graph[i][2] * sin(-(graph[i][3] * pi / 180)) + r * sin((graph[i][4] - 18) * pi / 180)]\n",
    "            vertix4 = [graph[i][2] * cos(-(graph[i][3] * pi / 180)) + sidelength * phi * cos((graph[i][4] + 72) * pi / 180),\n",
    "                       graph[i][2] * sin(-(graph[i][3] * pi / 180)) + sidelength * phi * sin((graph[i][4] + 72) * pi / 180)]\n",
    "        end\n",
    "\n",
    "        push!(vertices_list,[vertix1,vertix2,vertix3,vertix4])\n",
    "    end\n",
    "end"
   ]
  },
  {
   "cell_type": "code",
   "execution_count": 22,
   "id": "404e0765",
   "metadata": {},
   "outputs": [
    {
     "data": {
      "image/png": "[encoded data removed]",
      "text/plain": []
     },
     "execution_count": 22,
     "metadata": {},
     "output_type": "execute_result"
    }
   ],
   "source": [
    "graph = [[\"K\",0,0,0]]# initial kite\n",
    "\n",
    "@draw begin\n",
    "    t = Turtle()\n",
    "    \n",
    "    Pencolor(t, \"Red\")\n",
    "    Penwidth(t, 10)\n",
    "    Forward(t, 50)\n",
    "    Forward(t, -50)\n",
    "    \n",
    "    Penwidth(t,5)\n",
    "    draw(graph)\n",
    "end"
   ]
  },
  {
   "cell_type": "code",
   "execution_count": 23,
   "id": "3c19e3ec",
   "metadata": {},
   "outputs": [
    {
     "name": "stdout",
     "output_type": "stream",
     "text": [
      "1.2246467991473532e-16\n"
     ]
    },
    {
     "data": {
      "text/plain": [
       "1-element Vector{Any}:\n",
       " [[0.0, -0.0], [-15.450849718747378, -47.552825814757675], [-80.90169943749474, 9.907600726170917e-15], [-15.450849718747367, 47.55282581475768]]"
      ]
     },
     "execution_count": 23,
     "metadata": {},
     "output_type": "execute_result"
    }
   ],
   "source": [
    "vertices_list = []\n",
    "vertices(graph)\n",
    "vertices_list"
   ]
  },
  {
   "cell_type": "code",
   "execution_count": 26,
   "id": "b86d9795",
   "metadata": {},
   "outputs": [
    {
     "data": {
      "text/plain": [
       "1.2246467991473532e-16"
      ]
     },
     "execution_count": 26,
     "metadata": {},
     "output_type": "execute_result"
    }
   ],
   "source": [
    "sin(pi)"
   ]
  },
  {
   "cell_type": "code",
   "execution_count": 29,
   "id": "e0db6290",
   "metadata": {},
   "outputs": [
    {
     "data": {
      "text/plain": [
       "-1.0"
      ]
     },
     "execution_count": 29,
     "metadata": {},
     "output_type": "execute_result"
    }
   ],
   "source": [
    "cos(pi)"
   ]
  },
  {
   "cell_type": "code",
   "execution_count": 17,
   "id": "870943cd",
   "metadata": {},
   "outputs": [
    {
     "data": {
      "text/plain": [
       "80.90169943749476"
      ]
     },
     "execution_count": 17,
     "metadata": {},
     "output_type": "execute_result"
    }
   ],
   "source": [
    "sidelength * cos(72 * pi / 180) + sidelength * phi * cos(36 * pi / 180)"
   ]
  },
  {
   "cell_type": "code",
   "execution_count": 42,
   "id": "e797b7a8",
   "metadata": {},
   "outputs": [
    {
     "data": {
      "image/png": "[encoded data removed]",
      "text/plain": []
     },
     "execution_count": 42,
     "metadata": {},
     "output_type": "execute_result"
    }
   ],
   "source": [
    "graph = [[\"D\",0,0,0]]\n",
    "\n",
    "@draw begin\n",
    "    t = Turtle()\n",
    "    \n",
    "    Pencolor(t, \"Red\")\n",
    "    Penwidth(t, 10)\n",
    "    Forward(t, 50)\n",
    "    Forward(t, -50)\n",
    "    \n",
    "    Penwidth(t,5)\n",
    "    draw(graph)\n",
    "end"
   ]
  },
  {
   "cell_type": "code",
   "execution_count": 43,
   "id": "326a8f12",
   "metadata": {},
   "outputs": [
    {
     "data": {
      "text/plain": [
       "1-element Vector{Any}:\n",
       " [[0.0, -0.0], [50.0, 0.0], [90.45084971874738, -29.389262614623657], [25.000000000000004, 76.94208842938133]]"
      ]
     },
     "execution_count": 43,
     "metadata": {},
     "output_type": "execute_result"
    }
   ],
   "source": [
    "vertices_list = []\n",
    "vertices(graph)\n",
    "vertices_list"
   ]
  },
  {
   "cell_type": "code",
   "execution_count": 35,
   "id": "a131186e",
   "metadata": {},
   "outputs": [
    {
     "data": {
      "image/png": "[encoded data removed]",
      "text/plain": []
     },
     "execution_count": 35,
     "metadata": {},
     "output_type": "execute_result"
    }
   ],
   "source": [
    "substitution(graph)\n",
    "graph\n",
    "\n",
    "@draw begin\n",
    "    t = Turtle()\n",
    "    \n",
    "    Pencolor(t, \"Red\")\n",
    "    Penwidth(t, 10)\n",
    "    Forward(t, 50)\n",
    "    Forward(t, -50)\n",
    "    \n",
    "    Penwidth(t,5)\n",
    "    draw(graph)\n",
    "end"
   ]
  },
  {
   "cell_type": "code",
   "execution_count": 36,
   "id": "6d8ed2a5",
   "metadata": {},
   "outputs": [
    {
     "name": "stdout",
     "output_type": "stream",
     "text": [
      "-0.9510565162951536\n"
     ]
    },
    {
     "data": {
      "text/plain": [
       "2-element Vector{Any}:\n",
       " [[80.90169943749474, -0.0], [130.90169943749476, -1.2246467991473532e-14], [105.90169943749473, -76.94208842938134], [40.45084971874737, -29.38926261462365]]\n",
       " [[80.90169943749474, -0.0], [40.45084971874738, -29.38926261462366], [-9.549150281252636, -29.389262614623668], [105.90169943749474, -76.94208842938133]]"
      ]
     },
     "execution_count": 36,
     "metadata": {},
     "output_type": "execute_result"
    }
   ],
   "source": [
    "vertices_list = []\n",
    "vertices(graph)\n",
    "vertices_list"
   ]
  },
  {
   "cell_type": "code",
   "execution_count": 37,
   "id": "b85da502",
   "metadata": {},
   "outputs": [
    {
     "data": {
      "image/png": "[encoded data removed]",
      "text/plain": []
     },
     "execution_count": 37,
     "metadata": {},
     "output_type": "execute_result"
    }
   ],
   "source": [
    "substitution(graph)\n",
    "graph\n",
    "\n",
    "@draw begin\n",
    "    t = Turtle()\n",
    "    \n",
    "    Pencolor(t, \"Red\")\n",
    "    Penwidth(t, 10)\n",
    "    Forward(t, 50)\n",
    "    Forward(t, -50)\n",
    "    \n",
    "    Penwidth(t,5)\n",
    "    draw(graph)\n",
    "end"
   ]
  },
  {
   "cell_type": "code",
   "execution_count": 38,
   "id": "61090189",
   "metadata": {},
   "outputs": [
    {
     "name": "stdout",
     "output_type": "stream",
     "text": [
      "1.2246467991473532e-16\n",
      "0.5877852522924736\n",
      "0.5877852522924732\n"
     ]
    },
    {
     "data": {
      "text/plain": [
       "5-element Vector{Any}:\n",
       " [[96.35254915624209, -47.552825814757675], [80.90169943749471, -95.10565162951535], [15.45084971874735, -47.55282581475767], [80.90169943749473, 7.105427357601002e-15]]\n",
       " [[96.35254915624209, -47.552825814757675], [80.90169943749473, 7.105427357601002e-15], [161.80339887498945, 4.263256414560601e-14], [136.80339887498945, -76.94208842938134]]\n",
       " [[96.35254915624209, -47.552825814757675], [136.80339887498945, -76.94208842938133], [152.25424859373683, -124.49491424413901], [161.80339887498945, 7.105427357601002e-15]]\n",
       " [[15.450849718747376, -47.55282581475769], [-24.999999999999993, -76.94208842938134], [-49.999999999999986, 0.0], [30.90169943749475, -1.4210854715202004e-14]]\n",
       " [[15.450849718747376, -47.55282581475769], [30.901699437494738, -7.105427357601002e-15], [71.3525491562421, 29.389262614623668], [-50.0, -2.1316282072803006e-14]]"
      ]
     },
     "execution_count": 38,
     "metadata": {},
     "output_type": "execute_result"
    }
   ],
   "source": [
    "vertices_list = []\n",
    "vertices(graph)\n",
    "vertices_list"
   ]
  },
  {
   "cell_type": "code",
   "execution_count": 39,
   "id": "da30a03a",
   "metadata": {},
   "outputs": [
    {
     "data": {
      "image/png": "[encoded data removed]",
      "text/plain": []
     },
     "execution_count": 39,
     "metadata": {},
     "output_type": "execute_result"
    }
   ],
   "source": [
    "for i in 1:length(graph)\n",
    "    graph[i][2] = graph[i][2] * phi\n",
    "end\n",
    "substitution(graph)\n",
    "\n",
    "@draw begin\n",
    "    t = Turtle()\n",
    "    \n",
    "    Pencolor(t, \"Red\")\n",
    "    Penwidth(t, 10)\n",
    "    Forward(t, 50)\n",
    "    Forward(t, -50)\n",
    "    \n",
    "    Penwidth(t,5)\n",
    "    draw(graph)\n",
    "end"
   ]
  },
  {
   "cell_type": "code",
   "execution_count": 40,
   "id": "fef5854b",
   "metadata": {},
   "outputs": [
    {
     "name": "stdout",
     "output_type": "stream",
     "text": [
      "0.9510565162951535\n",
      "-0.9510565162951536\n",
      "-0.9510565162951536\n",
      "0.5877852522924734\n",
      "-0.9510565162951535\n",
      "0.5877852522924731\n",
      "-0.9510565162951535\n",
      "0.0\n"
     ]
    },
    {
     "data": {
      "text/plain": [
       "13-element Vector{Any}:\n",
       " [[105.9016994374947, -76.94208842938133], [65.45084971874734, -47.55282581475767], [130.9016994374947, 0.0], [155.9016994374947, -76.94208842938133]]\n",
       " [[105.9016994374947, -76.94208842938133], [155.9016994374947, -76.94208842938134], [130.90169943749467, -153.88417685876266], [65.45084971874732, -106.33135104400498]]\n",
       " [[105.9016994374947, -76.94208842938133], [65.45084971874734, -106.33135104400499], [15.450849718747321, -106.331351044005], [130.9016994374947, -153.88417685876266]]\n",
       " [[196.35254915624205, -47.552825814757654], [246.35254915624205, -47.55282581475767], [221.35254915624202, -124.494914244139], [155.90169943749467, -76.9420884293813]]\n",
       " [[196.35254915624205, -47.552825814757654], [155.90169943749467, -76.9420884293813], [130.9016994374947, 4.263256414560601e-14], [211.80339887498943, 2.1316282072803006e-14]]\n",
       " [[196.35254915624205, -47.552825814757654], [211.80339887498943, 2.1316282072803006e-14], [252.2542485937368, 29.38926261462369], [130.9016994374947, 3.552713678800501e-14]]\n",
       " [[221.35254915624208, -124.49491424413903], [261.80339887498945, -153.8841768587627], [196.35254915624208, -201.43700267352034], [171.35254915624208, -124.49491424413903]]\n",
       " [[221.35254915624208, -124.49491424413903], [171.35254915624208, -124.49491424413903], [130.9016994374947, -95.10565162951534], [196.35254915624208, -201.43700267352037]]\n",
       " [[-15.45084971874735, -47.552825814757696], [-30.901699437494717, -1.4210854715202004e-14], [50.00000000000003, -1.4210854715202004e-14], [25.00000000000002, -76.94208842938136]]\n",
       " [[-15.45084971874735, -47.552825814757696], [25.000000000000014, -76.94208842938136], [-40.450849718747364, -124.49491424413903], [-65.45084971874735, -47.55282581475769]]\n",
       " [[-15.45084971874735, -47.552825814757696], [-65.45084971874735, -47.5528258147577], [-105.90169943749473, -18.163563200134007], [-40.45084971874734, -124.49491424413904]]\n",
       " [[49.99999999999999, -1.4210854715202004e-14], [65.45084971874736, 47.55282581475766], [130.90169943749473, -1.4210854715202004e-14], [65.45084971874736, -47.55282581475769]]\n",
       " [[49.99999999999999, -1.4210854715202004e-14], [65.45084971874738, -47.55282581475769], [50.00000000000002, -95.10565162951538], [130.90169943749473, 5.60434673713983e-15]]"
      ]
     },
     "execution_count": 40,
     "metadata": {},
     "output_type": "execute_result"
    }
   ],
   "source": [
    "vertices_list = []\n",
    "vertices(graph)\n",
    "vertices_list"
   ]
  }
 ],
 "metadata": {
  "kernelspec": {
   "display_name": "Julia 1.7.2",
   "language": "julia",
   "name": "julia-1.7"
  },
  "language_info": {
   "file_extension": ".jl",
   "mimetype": "application/julia",
   "name": "julia",
   "version": "1.7.2"
  }
 },
 "nbformat": 4,
 "nbformat_minor": 5
}
