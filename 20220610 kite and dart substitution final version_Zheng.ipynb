{
 "cells": [
  {
   "cell_type": "code",
   "execution_count": 1,
   "id": "9c9de09b",
   "metadata": {},
   "outputs": [
    {
     "name": "stderr",
     "output_type": "stream",
     "text": [
      "\u001b[32m\u001b[1m    Updating\u001b[22m\u001b[39m registry at `C:\\Users\\17404\\.julia\\registries\\General.toml`\n",
      "\u001b[32m\u001b[1m   Resolving\u001b[22m\u001b[39m package versions...\n",
      "\u001b[32m\u001b[1m  No Changes\u001b[22m\u001b[39m to `C:\\Users\\17404\\.julia\\environments\\v1.7\\Project.toml`\n",
      "\u001b[32m\u001b[1m  No Changes\u001b[22m\u001b[39m to `C:\\Users\\17404\\.julia\\environments\\v1.7\\Manifest.toml`\n",
      "\u001b[32m\u001b[1m   Resolving\u001b[22m\u001b[39m package versions...\n",
      "\u001b[32m\u001b[1m  No Changes\u001b[22m\u001b[39m to `C:\\Users\\17404\\.julia\\environments\\v1.7\\Project.toml`\n",
      "\u001b[32m\u001b[1m  No Changes\u001b[22m\u001b[39m to `C:\\Users\\17404\\.julia\\environments\\v1.7\\Manifest.toml`\n"
     ]
    }
   ],
   "source": [
    "using Pkg\n",
    "Pkg.add(\"Luxor\")\n",
    "Pkg.add(\"Colors\")\n",
    "using Luxor\n",
    "using Colors"
   ]
  },
  {
   "cell_type": "code",
   "execution_count": 2,
   "id": "5661aadb",
   "metadata": {},
   "outputs": [
    {
     "data": {
      "text/plain": [
       "1.618033988749895"
      ]
     },
     "execution_count": 2,
     "metadata": {},
     "output_type": "execute_result"
    }
   ],
   "source": [
    "phi = (1 + sqrt(5)) / 2"
   ]
  },
  {
   "cell_type": "code",
   "execution_count": 3,
   "id": "779db408",
   "metadata": {},
   "outputs": [
    {
     "data": {
      "text/plain": [
       "100"
      ]
     },
     "execution_count": 3,
     "metadata": {},
     "output_type": "execute_result"
    }
   ],
   "source": [
    "sidelength = 100"
   ]
  },
  {
   "cell_type": "code",
   "execution_count": 5,
   "id": "4e55c461",
   "metadata": {},
   "outputs": [
    {
     "data": {
      "image/png": "[encoded data removed]",
      "text/plain": []
     },
     "execution_count": 5,
     "metadata": {},
     "output_type": "execute_result"
    }
   ],
   "source": [
    "function dart(radialdistance, polarangle, orientation) #function for drawing a dart\n",
    "    ```\n",
    "    radialdistance is the distance between rotation center and the origin\n",
    "    polarangle is the turing angle before the turle move forward by r\n",
    "    orientation is the rotation degrees of starting drawing the dart or kite\n",
    "    ```\n",
    "    \n",
    "    #move the turtle to the position of starting place by polar coordinate and rotation\n",
    "    Penup(t)\n",
    "    Turn(t, polarangle)\n",
    "    Forward(t, radialdistance)\n",
    "    Turn(t, -polarangle)\n",
    "    Turn(t, orientation)\n",
    "    Pendown(t)\n",
    "    \n",
    "    #start to draw a dart \n",
    "    Pencolor(t, \"Black\")\n",
    "    Forward(t, sidelength)\n",
    "    Turn(t, -36)\n",
    "    Forward(t, sidelength)\n",
    "    Turn(t, 144)\n",
    "    Forward(t, sidelength * phi)\n",
    "    Turn(t, 108)\n",
    "    Forward(t, sidelength * phi)\n",
    "    Turn(t, 144)\n",
    "    \n",
    "    #move the turtle back to the origin\n",
    "    Penup(t)\n",
    "    Turn(t, -orientation)\n",
    "    Turn(t, polarangle)\n",
    "    Forward(t, -radialdistance)\n",
    "    Turn(t, -polarangle)\n",
    "    Pendown(t)\n",
    "end\n",
    "\n",
    "@draw begin\n",
    "    t = Turtle()\n",
    "    Penwidth(t,5)\n",
    "    \n",
    "    #check the starting point\n",
    "    Pencolor(t, \"Red\")\n",
    "    Forward(t, 50)\n",
    "    Forward(t, -50)\n",
    "    \n",
    "    #draw a dart\n",
    "    dart(100,36,72)\n",
    "    \n",
    "    #check the ending point\n",
    "    Penwidth(t,3)\n",
    "    Pencolor(t, \"Blue\")\n",
    "    Forward(t, 50)\n",
    "    Forward(t, -50)\n",
    "end"
   ]
  },
  {
   "cell_type": "code",
   "execution_count": 6,
   "id": "c0542984",
   "metadata": {},
   "outputs": [
    {
     "data": {
      "image/png": "[encoded data removed]",
      "text/plain": []
     },
     "execution_count": 6,
     "metadata": {},
     "output_type": "execute_result"
    }
   ],
   "source": [
    "function kite(radialdistance, polarangle, orientation) #function for drawing a kite\n",
    "    ```\n",
    "    radialdistance is the distance between rotation center and the origin\n",
    "    polarangle is the turing angle before the turle move forward by r\n",
    "    orientation is the rotation degrees of starting drawing the dart or kite\n",
    "    ```\n",
    "    \n",
    "    #move the turtle to the position of starting place by polar coordinate and rotation\n",
    "    Penup(t)\n",
    "    Turn(t, polarangle)\n",
    "    Forward(t, radialdistance)\n",
    "    Turn(t, -polarangle)\n",
    "    Turn(t, orientation)\n",
    "    Pendown(t)\n",
    "    \n",
    "    #start to draw a kite\n",
    "    Pencolor(t, \"Black\")\n",
    "    Turn(t, 108)\n",
    "    Forward(t, sidelength)\n",
    "    Turn(t, 108)\n",
    "    Forward(t, sidelength * phi)\n",
    "    Turn(t, 108)\n",
    "    Forward(t, sidelength * phi)\n",
    "    Turn(t, 108)\n",
    "    Forward(t, sidelength)\n",
    "    Turn(t, -72)\n",
    "    \n",
    "    #move the turtle back to the origin\n",
    "    Penup(t)\n",
    "    Turn(t, -orientation)\n",
    "    Turn(t, polarangle)\n",
    "    Forward(t, -radialdistance)\n",
    "    Turn(t, -polarangle)\n",
    "    Pendown(t)\n",
    "end\n",
    "\n",
    "@draw begin\n",
    "    t = Turtle()\n",
    "    Penwidth(t,5)\n",
    "    \n",
    "    #check the starting point\n",
    "    Pencolor(t, \"Red\")\n",
    "    Forward(t, 50)\n",
    "    Forward(t, -50)\n",
    "    \n",
    "    #draw a kite\n",
    "    kite(50,36,72)\n",
    "    \n",
    "    #check the ending point\n",
    "    Penwidth(t,3)\n",
    "    Pencolor(t, \"Blue\")\n",
    "    Forward(t, 50)\n",
    "    Forward(t, -50)\n",
    "end"
   ]
  },
  {
   "cell_type": "code",
   "execution_count": 7,
   "id": "10a51283",
   "metadata": {},
   "outputs": [
    {
     "data": {
      "text/plain": [
       "draw (generic function with 1 method)"
      ]
     },
     "execution_count": 7,
     "metadata": {},
     "output_type": "execute_result"
    }
   ],
   "source": [
    "function draw(graph) # function for drawing dart or kite by stored information\n",
    "    for i in 1:length(graph)\n",
    "        if graph[i][1] == \"K\"\n",
    "            kite(graph[i][2],graph[i][3],graph[i][4])\n",
    "        else\n",
    "            dart(graph[i][2],graph[i][3],graph[i][4])\n",
    "        end\n",
    "    end\n",
    "end"
   ]
  },
  {
   "cell_type": "code",
   "execution_count": 12,
   "id": "a461e0ec",
   "metadata": {},
   "outputs": [
    {
     "data": {
      "text/plain": [
       "substitution (generic function with 1 method)"
      ]
     },
     "execution_count": 12,
     "metadata": {},
     "output_type": "execute_result"
    }
   ],
   "source": [
    "function substitution(graph) # function for generate the substitution by stored information\n",
    "    for i in 1:length(graph)\n",
    "        \n",
    "        if graph[i][1] == \"K\"\n",
    "            # by using polar coordinate and vector addition find the new starting point of drawing\n",
    "            y = graph[i][2] * sin(-(graph[i][3] * pi / 180)) + sidelength * sin((180 - graph[1][4]) * pi / 180)\n",
    "            x = graph[i][2] * cos(-(graph[i][3] * pi / 180)) + sidelength * cos((180 - graph[1][4]) * pi / 180)\n",
    "            new_radialdistance = sqrt(y^2+x^2)\n",
    "                if x > 0\n",
    "                    new_polorangle = atan(y/x) * 180 /pi\n",
    "                elseif x < 0 && y >= 0\n",
    "                    new_polorangle = atan(y/x) * 180 /pi + 180\n",
    "                elseif x < 0 && y < 0\n",
    "                    new_polorangle = atan(y/x) * 180 /pi - 180\n",
    "                elseif x == 0 && y > 0\n",
    "                    new_polorangle = 90\n",
    "                elseif x == 0 && y < 0\n",
    "                    new_polorangle = -90\n",
    "                elseif x == 0 && y == 0\n",
    "                    new_polorangle = 0\n",
    "                end\n",
    "            \n",
    "            #do the substitution by adding them into the list\n",
    "            push!(graph, [\"K\",new_radialdistance,-new_polorangle,graph[i][4] + 108])\n",
    "            push!(graph, [\"K\",new_radialdistance,-new_polorangle,graph[i][4] - 108])\n",
    "            push!(graph, [\"D\",new_radialdistance,-new_polorangle,graph[i][4] + 144])\n",
    "            \n",
    "        else\n",
    "            # by using polar coordinate and vector addition find the new starting point of drawing\n",
    "            y = graph[i][2] * sin(-(graph[i][3] * pi / 180)) + sidelength * phi * sin(-(graph[i][4] * pi / 180))\n",
    "            x = graph[i][2] * cos(-(graph[i][3] * pi / 180)) + sidelength * phi * cos(-(graph[i][4] * pi / 180))\n",
    "            new_radialdistance = sqrt(y^2+x^2)\n",
    "                if x > 0\n",
    "                    new_polorangle = atan(y/x) * 180 /pi\n",
    "                elseif x < 0 && y >= 0\n",
    "                    new_polorangle = atan(y/x) * 180 /pi + 180\n",
    "                elseif x < 0 && y < 0\n",
    "                    new_polorangle = atan(y/x) * 180 /pi - 180\n",
    "                elseif x == 0 && y > 0\n",
    "                    new_polorangle = 90\n",
    "                elseif x == 0 && y < 0\n",
    "                    new_polorangle = -90\n",
    "                elseif x == 0 && y == 0\n",
    "                    new_polorangle = 0\n",
    "                end\n",
    "            \n",
    "            #do the substitution by adding them into the list\n",
    "            push!(graph, [\"K\",new_radialdistance,-new_polorangle,graph[i][4] - 108])\n",
    "            push!(graph, [\"D\",new_radialdistance,-new_polorangle,graph[i][4] + 144])\n",
    "        end\n",
    "        \n",
    "    end\n",
    "end"
   ]
  },
  {
   "cell_type": "code",
   "execution_count": 13,
   "id": "affe1c4d",
   "metadata": {},
   "outputs": [
    {
     "data": {
      "image/png": "[encoded data removed]",
      "text/plain": []
     },
     "execution_count": 13,
     "metadata": {},
     "output_type": "execute_result"
    }
   ],
   "source": [
    "graph = [[\"K\",0,0,0],[\"D\",0,0,0]] #stored information\n",
    "\n",
    "substitution(graph)#substitution\n",
    "\n",
    "#drawing them by turtle\n",
    "@draw begin\n",
    "    t = Turtle()\n",
    "    Penwidth(t,5)\n",
    "\n",
    "    Pencolor(t, \"Red\")\n",
    "    Forward(t, 50)\n",
    "    Forward(t, -50)\n",
    "    draw(graph)\n",
    "end"
   ]
  }
 ],
 "metadata": {
  "kernelspec": {
   "display_name": "Julia 1.7.2",
   "language": "julia",
   "name": "julia-1.7"
  },
  "language_info": {
   "file_extension": ".jl",
   "mimetype": "application/julia",
   "name": "julia",
   "version": "1.7.2"
  }
 },
 "nbformat": 4,
 "nbformat_minor": 5
}
